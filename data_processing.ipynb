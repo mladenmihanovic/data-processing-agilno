{
 "cells": [
  {
   "cell_type": "markdown",
   "id": "cc285d36",
   "metadata": {},
   "source": [
    "## 1. Data Processing & Cleaning\n",
    "- Load and process the CSV file using PySpark\n",
    "- Handle missing values\n",
    "- Convert data types where needed (especially 'Sleep Duration' to numeric)\n",
    "- Remove any inconsistent values\n",
    "- Output the data quality metrics (nulls, value counts, basic statistics)"
   ]
  },
  {
   "cell_type": "markdown",
   "id": "30af54c4",
   "metadata": {},
   "source": [
    "##### 1.a Load and process the CSV file using PySpark"
   ]
  },
  {
   "cell_type": "code",
   "execution_count": null,
   "id": "5cf8d774-8448-4752-8e29-95dea741237b",
   "metadata": {},
   "outputs": [],
   "source": [
    "from pyspark.sql import SparkSession\n",
    "\n",
    "sparkSession = SparkSession.builder.getOrCreate()\n",
    "df = sparkSession.read.csv('./data/Student Depression Dataset.csv', header=True, inferSchema=True)\n",
    "df.show()"
   ]
  },
  {
   "cell_type": "markdown",
   "id": "53ab64e8",
   "metadata": {},
   "source": [
    "##### 1.b Handle missing values\n",
    "\n",
    "I want first to output rows that have missing values and then remove them from data frame"
   ]
  },
  {
   "cell_type": "code",
   "execution_count": null,
   "id": "a517653e",
   "metadata": {},
   "outputs": [],
   "source": [
    "from pyspark.sql import functions as F\n",
    "\n",
    "filter_expr = F.exists(F.array(*df.columns), lambda x: x.isNull())\n",
    "df.filter(filter_expr).show()"
   ]
  },
  {
   "cell_type": "code",
   "execution_count": 29,
   "id": "f6cda25f",
   "metadata": {},
   "outputs": [],
   "source": [
    "# remove null values \n",
    "df = df.na.drop(subset=['Financial Stress'])\n",
    "\n",
    "# or maybe setting value to 0 would also be an option\n",
    "#df.na.fill(value=0,subset=['Financial Stress'])."
   ]
  },
  {
   "cell_type": "markdown",
   "id": "ac931dc3",
   "metadata": {},
   "source": [
    "##### 1.c Convert data types where needed (especially 'Sleep Duration' to numeric)\n",
    "\n",
    "First I want to output data type for each column just to check if everything look ok. Then I want to convert columns which don't have appopriate type"
   ]
  },
  {
   "cell_type": "code",
   "execution_count": null,
   "id": "6b14a29b",
   "metadata": {},
   "outputs": [],
   "source": [
    "df.printSchema()"
   ]
  },
  {
   "cell_type": "markdown",
   "id": "8c53ece2",
   "metadata": {},
   "source": [
    "First I want to group 'Sleep Duration' column to chech data we are working with "
   ]
  },
  {
   "cell_type": "code",
   "execution_count": null,
   "id": "4ca3be29",
   "metadata": {},
   "outputs": [],
   "source": [
    "df.groupBy('Sleep Duration').count().show()"
   ]
  },
  {
   "cell_type": "code",
   "execution_count": null,
   "id": "5d220688",
   "metadata": {},
   "outputs": [],
   "source": [
    "from pyspark.sql.functions import when, col\n",
    "\n",
    "#drop rows where value is set to 'Others'\n",
    "df = df.filter('`Sleep Duration` != \"Others\"')\n",
    "\n",
    "df = df.withColumn(\n",
    "    \"Sleep Duration\",\n",
    "    when(col(\"Sleep Duration\") == \"More than 8 hours\", 9)\n",
    "    .when(col(\"Sleep Duration\") == \"7-8 hours\", 7.5)\n",
    "    .when(col(\"Sleep Duration\") == \"5-6 hours\", 5.5)\n",
    "    .when(col(\"Sleep Duration\") == \"Less than 5 hours\", 4)\n",
    ")\n",
    "\n",
    "df = df.withColumn(\"Sleep Duration\", col(\"Sleep Duration\").cast(\"float\"))\n",
    "df.show()"
   ]
  },
  {
   "cell_type": "code",
   "execution_count": null,
   "id": "de230037",
   "metadata": {},
   "outputs": [],
   "source": [
    "# verify schema\n",
    "df.printSchema()"
   ]
  },
  {
   "cell_type": "markdown",
   "id": "cd9a96d6",
   "metadata": {},
   "source": [
    "Looks like columns 'Have you ever had suicidal thoughts ?', 'Family History of Mental Illness' and 'Depresion' can be transformed to boolean but first lets double check data"
   ]
  },
  {
   "cell_type": "code",
   "execution_count": null,
   "id": "8db61f79",
   "metadata": {},
   "outputs": [],
   "source": [
    "df.groupBy('Have you ever had suicidal thoughts ?').count().show()\n",
    "df.groupBy('Family History of Mental Illness').count().show()\n",
    "df.groupBy('Depression').count().show()"
   ]
  },
  {
   "cell_type": "code",
   "execution_count": null,
   "id": "3cfc9684",
   "metadata": {},
   "outputs": [],
   "source": [
    "df = df.withColumn(\"Have you ever had suicidal thoughts ?\", col(\"Have you ever had suicidal thoughts ?\").cast(\"boolean\"))\n",
    "df = df.withColumn(\"Family History of Mental Illness\", col(\"Family History of Mental Illness\").cast(\"boolean\"))\n",
    "df = df.withColumn(\"Depression\", col(\"Depression\").cast(\"boolean\"))\n",
    "\n",
    "df.printSchema()"
   ]
  },
  {
   "cell_type": "markdown",
   "id": "6f4ce299",
   "metadata": {},
   "source": [
    "##### 1.d Remove any inconsistent values"
   ]
  },
  {
   "cell_type": "markdown",
   "id": "720a0a0c",
   "metadata": {},
   "source": [
    "Could not find any inconsistenct values except 'Other' in 'Dietary Habits' I but unsure what to do with it...\n"
   ]
  },
  {
   "cell_type": "markdown",
   "id": "588b7138",
   "metadata": {},
   "source": [
    "##### 1.e Output the data quality metrics (nulls, value counts, basic statistics)"
   ]
  },
  {
   "cell_type": "code",
   "execution_count": null,
   "id": "a90ee5e6",
   "metadata": {},
   "outputs": [],
   "source": [
    "# Summary statistics for numerical columns\n",
    "df.describe().show()"
   ]
  },
  {
   "cell_type": "markdown",
   "id": "cbce366b",
   "metadata": {},
   "source": [
    "Save to parquet file"
   ]
  },
  {
   "cell_type": "code",
   "execution_count": null,
   "id": "935ac33d",
   "metadata": {},
   "outputs": [],
   "source": [
    "from utils import output_to_parquet_file\n",
    "\n",
    "output_to_parquet_file(df, 'processed_data.parquet')"
   ]
  }
 ],
 "metadata": {
  "kernelspec": {
   "display_name": "venv",
   "language": "python",
   "name": "python3"
  },
  "language_info": {
   "codemirror_mode": {
    "name": "ipython",
    "version": 3
   },
   "file_extension": ".py",
   "mimetype": "text/x-python",
   "name": "python",
   "nbconvert_exporter": "python",
   "pygments_lexer": "ipython3",
   "version": "3.13.1"
  }
 },
 "nbformat": 4,
 "nbformat_minor": 5
}

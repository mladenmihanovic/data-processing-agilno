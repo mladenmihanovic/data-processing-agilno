{
 "cells": [
  {
   "cell_type": "markdown",
   "id": "cc285d36",
   "metadata": {},
   "source": [
    "## 1. Data Processing & Cleaning\n",
    "- Load and process the CSV file using PySpark\n",
    "- Handle missing values\n",
    "- Convert data types where needed (especially 'Sleep Duration' to numeric)\n",
    "- Remove any inconsistent values\n",
    "- Output the data quality metrics (nulls, value counts, basic statistics)"
   ]
  },
  {
   "cell_type": "markdown",
   "id": "30af54c4",
   "metadata": {},
   "source": [
    "##### 1.a Load and process the CSV file using PySpark"
   ]
  },
  {
   "cell_type": "code",
   "execution_count": null,
   "id": "5cf8d774-8448-4752-8e29-95dea741237b",
   "metadata": {},
   "outputs": [],
   "source": [
    "from pyspark.sql import SparkSession\n",
    "\n",
    "sparkSession = SparkSession.builder.appName('StudentDepressionAnalysis').getOrCreate()\n",
    "df = sparkSession.read.csv('./data/Student Depression Dataset.csv', header=True, inferSchema=True)\n",
    "df.show()"
   ]
  },
  {
   "cell_type": "code",
   "execution_count": null,
   "id": "81893abb",
   "metadata": {},
   "outputs": [],
   "source": [
    "df.filter(\"`Work Pressure` != 0\").select('Academic Pressure','Work Pressure').show()\n",
    "\n",
    "df.groupBy('Sleep Duration').count().show()"
   ]
  },
  {
   "cell_type": "markdown",
   "id": "53ab64e8",
   "metadata": {},
   "source": [
    "##### 1.b Handle missing values\n",
    "\n",
    "I want first to output rows that have missing values and then remove them from data frame"
   ]
  },
  {
   "cell_type": "code",
   "execution_count": null,
   "id": "a517653e",
   "metadata": {},
   "outputs": [],
   "source": [
    "from pyspark.sql import functions as F\n",
    "\n",
    "filter_expr = F.exists(F.array(*df.columns), lambda x: x.isNull())\n",
    "df.filter(filter_expr).show()"
   ]
  },
  {
   "cell_type": "code",
   "execution_count": 4,
   "id": "f6cda25f",
   "metadata": {},
   "outputs": [],
   "source": [
    "# remove null values \n",
    "df = df.na.drop(subset=['Financial Stress'])\n",
    "\n",
    "# or maybe setting value to 0 would also be an option\n",
    "#df = df.na.fill(value=0,subset=['Financial Stress'])."
   ]
  },
  {
   "cell_type": "markdown",
   "id": "ac931dc3",
   "metadata": {},
   "source": [
    "##### 1.c Convert data types where needed (especially 'Sleep Duration' to numeric)\n",
    "\n",
    "First I want to output data type for each column just to check if everything look ok. Then I want to convert columns which don't have appopriate type"
   ]
  },
  {
   "cell_type": "code",
   "execution_count": null,
   "id": "6b14a29b",
   "metadata": {},
   "outputs": [],
   "source": [
    "df.printSchema()"
   ]
  },
  {
   "cell_type": "markdown",
   "id": "8c53ece2",
   "metadata": {},
   "source": [
    "First I want to group 'Sleep Duration' column to check data we are working with "
   ]
  },
  {
   "cell_type": "code",
   "execution_count": null,
   "id": "4ca3be29",
   "metadata": {},
   "outputs": [],
   "source": [
    "df.groupBy('Sleep Duration').count().show()"
   ]
  },
  {
   "cell_type": "code",
   "execution_count": null,
   "id": "5d220688",
   "metadata": {},
   "outputs": [],
   "source": [
    "from pyspark.sql.functions import when, col\n",
    "\n",
    "#drop rows where value is set to 'Others'\n",
    "df = df.filter('`Sleep Duration` != \"Others\"')\n",
    "\n",
    "df = df.withColumn(\n",
    "    'Sleep Duration',\n",
    "    when(col('Sleep Duration') == 'More than 8 hours', 9)\n",
    "    .when(col('Sleep Duration') == '7-8 hours', 7.5)\n",
    "    .when(col('Sleep Duration') == '5-6 hours', 5.5)\n",
    "    .when(col('Sleep Duration') == 'Less than 5 hours', 4)\n",
    ")\n",
    "\n",
    "df = df.withColumn('Sleep Duration', col('Sleep Duration').cast('float'))\n",
    "df.show()"
   ]
  },
  {
   "cell_type": "code",
   "execution_count": null,
   "id": "de230037",
   "metadata": {},
   "outputs": [],
   "source": [
    "# verify schema\n",
    "df.printSchema()"
   ]
  },
  {
   "cell_type": "markdown",
   "id": "6f4ce299",
   "metadata": {},
   "source": [
    "##### 1.d Remove any inconsistent values"
   ]
  },
  {
   "cell_type": "markdown",
   "id": "720a0a0c",
   "metadata": {},
   "source": [
    "Could not find any inconsistenct values except 'Other' in 'Dietary Habits' I but unsure what to do with it...\n"
   ]
  },
  {
   "cell_type": "markdown",
   "id": "588b7138",
   "metadata": {},
   "source": [
    "##### 1.e Output the data quality metrics (nulls, value counts, basic statistics)"
   ]
  },
  {
   "cell_type": "code",
   "execution_count": null,
   "id": "a90ee5e6",
   "metadata": {},
   "outputs": [],
   "source": [
    "from pyspark.sql.functions import countDistinct\n",
    "\n",
    "# Value counts\n",
    "df.select([(countDistinct(c).alias(f'{c}_distinct_count')) for c in df.columns]).show()\n",
    "\n",
    "# Basic statistics\n",
    "df.describe().show()"
   ]
  },
  {
   "cell_type": "markdown",
   "id": "1de6b6f3",
   "metadata": {},
   "source": [
    "### 2. Feature Engineering - Create and output these specific features:\n",
    "- Stress Index = weighted average of (Academic Pressure, Work Pressure, Financial Stress)\n",
    "- Sleep Categories (Low: <6 hours, Normal: 6-8 hours, High: >8 hours)\n",
    "- Age Groups (18-21, 22-25, 26-30, >30)\n",
    "- Normalized versions of all numerical features (0-1 scale)\n",
    "- Dummy variables for categorical columns"
   ]
  },
  {
   "cell_type": "markdown",
   "id": "3c25d91d",
   "metadata": {},
   "source": [
    "##### 2.a Stress Index = weighted average of (Academic Pressure, Work Pressure, Financial Stress)"
   ]
  },
  {
   "cell_type": "code",
   "execution_count": null,
   "id": "43661af3",
   "metadata": {},
   "outputs": [],
   "source": [
    "from pyspark.sql.functions import desc, asc\n",
    "\n",
    "df = df.withColumn('Stress Index', F.round((col('Academic Pressure') * 0.4 + col('Work Pressure') * 0.4 + col('Financial Stress') * 0.6), 2))\n",
    "df.show()"
   ]
  },
  {
   "cell_type": "markdown",
   "id": "01b11968",
   "metadata": {},
   "source": [
    "##### 2.b Sleep Categories (Low: <6 hours, Normal: 6-8 hours, High: >8 hours)"
   ]
  },
  {
   "cell_type": "code",
   "execution_count": null,
   "id": "64a18259",
   "metadata": {},
   "outputs": [],
   "source": [
    "df = df.withColumn('Sleep Category', \n",
    "                   when(col('Sleep Duration') < 6, 'Low')\n",
    "                   .when((col('Sleep Duration') >= 6) & (col('Sleep Duration') <= 8), 'Normal')\n",
    "                   .otherwise('High'))\n",
    "\n",
    "df.select('Sleep Category', 'Sleep Duration').show()"
   ]
  },
  {
   "cell_type": "markdown",
   "id": "bd916592",
   "metadata": {},
   "source": [
    "##### 2.c Age Groups (18-21, 22-25, 26-30, >30)"
   ]
  },
  {
   "cell_type": "code",
   "execution_count": null,
   "id": "c34ffd50",
   "metadata": {},
   "outputs": [],
   "source": [
    "df = df.withColumn('Age Group', \n",
    "                   when((col('Age') >= 18) & (col('Age') <= 21), '18-21')\n",
    "                   .when((col('Age') >= 22) & (col('Age') <= 25), '22-25')\n",
    "                   .when((col('Age') >= 26) & (col('Age') <= 30), '26-30')\n",
    "                   .otherwise('30+'))\n",
    "df.select('Age', 'Age Group').show()"
   ]
  },
  {
   "cell_type": "markdown",
   "id": "263080a6",
   "metadata": {},
   "source": [
    "##### 2.d Normalized versions of all numerical features (0-1 scale)"
   ]
  },
  {
   "cell_type": "code",
   "execution_count": null,
   "id": "3d2747ea",
   "metadata": {},
   "outputs": [],
   "source": [
    "numeric_cols = [\"Stress Index\"]\n",
    "\n",
    "for col_name in numeric_cols:\n",
    "    min_val = df.agg(F.min(col_name)).collect()[0][0]\n",
    "    max_val = df.agg(F.max(col_name)).collect()[0][0]\n",
    "\n",
    "    df = df.withColumn(\n",
    "        f\"{col_name}_normalized\",\n",
    "        F.round((F.col(col_name) - min_val) / (max_val - min_val), 2),\n",
    "    )\n",
    "\n",
    "df.show()"
   ]
  },
  {
   "cell_type": "markdown",
   "id": "80a11e40",
   "metadata": {},
   "source": [
    "##### 2.e Dummy variables for categorical columns"
   ]
  },
  {
   "cell_type": "code",
   "execution_count": null,
   "id": "dbc5731e",
   "metadata": {},
   "outputs": [],
   "source": [
    "from pyspark.sql.functions import lit\n",
    "\n",
    "gender_pivot_df = df.groupBy('id').pivot('Gender').agg(lit(1)).fillna(0)\n",
    "\n",
    "age_group_pivot_df = df.groupBy('id').pivot('Age Group').agg(lit(1)).fillna(0)\n",
    "\n",
    "sleep_category_pivot_df = df.groupBy('id').pivot('Sleep Category').agg(lit(1)).fillna(0)\n",
    "\n",
    "df_joined = df.join(\n",
    "        gender_pivot_df, on='id', how='inner'\n",
    "    ).join(\n",
    "        age_group_pivot_df, on='id', how='inner'\n",
    "    ).join(\n",
    "        sleep_category_pivot_df, on='id', how='inner'\n",
    "    )\n",
    "\n",
    "df_joined.show()"
   ]
  },
  {
   "cell_type": "markdown",
   "id": "ea27644e",
   "metadata": {},
   "source": [
    "### 3. Outputs"
   ]
  },
  {
   "cell_type": "markdown",
   "id": "ac26d430",
   "metadata": {},
   "source": [
    "##### 3.a Distribution Statistics\n",
    "- Depressions by age group and profession\n",
    "- CGPA statistics by sleep category"
   ]
  },
  {
   "cell_type": "code",
   "execution_count": null,
   "id": "febb911c",
   "metadata": {},
   "outputs": [],
   "source": [
    "# Depressions by age group and profession\n",
    "df.groupBy(\n",
    "        'Age Group', 'Profession'\n",
    "    ).agg(\n",
    "        F.mean('Depression').alias('Avg Depression'), F.count('Depression').alias('Count')\n",
    "    ).filter(\n",
    "        F.col('Count') > 100\n",
    "    ).orderBy(\n",
    "        'Age Group'\n",
    "    ).show()\n",
    "\n",
    "# CGPA statistics by sleep category\n",
    "df.groupBy(\n",
    "        'Sleep Category'\n",
    "    ).agg(\n",
    "        F.mean('CGPA').alias('Avg CGPA'), F.stddev('CGPA').alias('StdDev CGPA')\n",
    "    ).orderBy(\n",
    "        'Sleep Category'\n",
    "    ).show()\n"
   ]
  },
  {
   "cell_type": "markdown",
   "id": "dc724642",
   "metadata": {},
   "source": [
    "##### 3.b Correlation Outputs\n",
    "- Correlation matrix for numerical variables\n",
    "- Top 5 factors correlated with depression scores"
   ]
  },
  {
   "cell_type": "code",
   "execution_count": null,
   "id": "a8eb710f",
   "metadata": {},
   "outputs": [],
   "source": [
    "columns_for_corelations = ['Age', 'Academic Pressure', 'CGPA', 'Study Satisfaction', 'Sleep Duration', 'Stress Index']\n",
    "\n",
    "for idx, val1 in enumerate(columns_for_corelations):\n",
    "    for val2 in range(idx+1, len(columns_for_corelations)):\n",
    "        correlation = df.stat.corr(val1, columns_for_corelations[val2])\n",
    "        print(f'Correlation between {val1} and {columns_for_corelations[val2]}: {correlation}')\n",
    "\n",
    "\n",
    "\n",
    "correlations = [ (col, df.stat.corr('Depression', col)) for col in columns_for_corelations]\n",
    "print(correlations)\n",
    "top_5_correlations = sorted(correlations, key=lambda x: x[1], reverse=True)[:5]\n",
    "\n",
    "print('Top 5 factors correlated with Depression Score:')\n",
    "for factor, corr_value in top_5_correlations:\n",
    "    print(f'{factor}: {corr_value}')\n"
   ]
  },
  {
   "cell_type": "markdown",
   "id": "3c66e0b0",
   "metadata": {},
   "source": [
    "##### 3.c Aggregated Results:\n",
    "- Depression aggregated by city and degree\n",
    "- Stress index aggregated by age group and gender\n",
    "- Academic performance metrics by sleep category"
   ]
  },
  {
   "cell_type": "code",
   "execution_count": null,
   "id": "ea783a5c",
   "metadata": {},
   "outputs": [],
   "source": [
    "# Depression aggregated by city and degree\n",
    "df.groupBy(\n",
    "        'City', 'Degree'\n",
    "    ).agg(\n",
    "        F.round((F.mean('Depression') * 100), 2).alias('Depression Percentage'),\n",
    "        F.count('City').alias('Count')\n",
    "    ).orderBy(\n",
    "        'City', 'Degree'\n",
    "    ).show()\n",
    "\n",
    "# Stress index aggregated by age group and gender\n",
    "df.groupBy(\n",
    "        'Age Group', 'Gender'\n",
    "    ).agg(\n",
    "        F.mean('Stress Index').alias('Avg Stress Index'),\n",
    "        F.count('Age Group').alias('Count')\n",
    "    ).orderBy(\n",
    "        'Age Group', 'Gender'\n",
    "    ).show()\n",
    "\n",
    "# Academic performance metrics by sleep category\n",
    "df.groupBy(\n",
    "    'Sleep Category'\n",
    "    ).agg(\n",
    "        F.mean('CGPA').alias('Avg CGPA'),\n",
    "        F.count('Sleep Category').alias('Count')\n",
    "    ).orderBy(\n",
    "        'Sleep Category'\n",
    "    ).show()\n"
   ]
  },
  {
   "cell_type": "markdown",
   "id": "6f17850b",
   "metadata": {},
   "source": [
    "##### 3.d Risk Analysis Output:\n",
    "- List of high-risk students based on:\n",
    "    * Stress index\n",
    "    * Sleep duration\n",
    "    * Academic/job satisfaction\n",
    "    * Financial stress"
   ]
  },
  {
   "cell_type": "code",
   "execution_count": null,
   "id": "ecf419b9",
   "metadata": {},
   "outputs": [],
   "source": [
    "high_stress_threshold = 4\n",
    "low_sleep_threshold = 6\n",
    "low_job_satisfaction_threshold = 2\n",
    "high_academin_pressure_threshold = 4\n",
    "high_financial_stress_threshold = 4\n",
    "\n",
    "df.filter(\n",
    "    (F.col('Stress Index') > high_stress_threshold) &\n",
    "    (F.col('Sleep Duration') < low_sleep_threshold) &\n",
    "    (F.col('Job Satisfaction') < low_job_satisfaction_threshold) & \n",
    "    (F.col('Academic Pressure') > high_academin_pressure_threshold) &\n",
    "    (F.col('Financial Stress') > high_financial_stress_threshold)\n",
    ").show()"
   ]
  }
 ],
 "metadata": {
  "kernelspec": {
   "display_name": "venv",
   "language": "python",
   "name": "python3"
  },
  "language_info": {
   "codemirror_mode": {
    "name": "ipython",
    "version": 3
   },
   "file_extension": ".py",
   "mimetype": "text/x-python",
   "name": "python",
   "nbconvert_exporter": "python",
   "pygments_lexer": "ipython3",
   "version": "3.13.1"
  }
 },
 "nbformat": 4,
 "nbformat_minor": 5
}
